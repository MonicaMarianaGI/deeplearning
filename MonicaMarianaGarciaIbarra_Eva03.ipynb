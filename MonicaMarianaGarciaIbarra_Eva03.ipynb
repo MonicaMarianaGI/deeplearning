{
  "nbformat": 4,
  "nbformat_minor": 0,
  "metadata": {
    "colab": {
      "provenance": []
    },
    "kernelspec": {
      "name": "python3",
      "display_name": "Python 3"
    },
    "language_info": {
      "name": "python"
    }
  },
  "cells": [
    {
      "cell_type": "code",
      "execution_count": 12,
      "metadata": {
        "id": "x_veX-Grgg3z"
      },
      "outputs": [],
      "source": [
        "import numpy as np\n",
        "import tensorflow as tf\n",
        "from sklearn.model_selection import train_test_split\n",
        "from tensorflow.keras.preprocessing.text import Tokenizer\n",
        "from tensorflow.keras.preprocessing.sequence import pad_sequences\n",
        "from tensorflow.keras.models import Sequential\n",
        "from tensorflow.keras.layers import Embedding, LSTM, Dense, Bidirectional\n",
        "from tensorflow.keras.callbacks import EarlyStopping\n",
        "from sklearn.preprocessing import LabelEncoder"
      ]
    },
    {
      "cell_type": "code",
      "source": [
        "# Datos\n",
        "nombres = [\n",
        "    \"Ana\", \"Pedro\", \"María\", \"Juan\", \"Lucía\", \"Luis\", \"Carmen\", \"Miguel\", \"Laura\", \"Jorge\",\n",
        "    \"Carlos\", \"Verónica\", \"Emmanuel\", \"Giovanni\", \"Karla\", \"Oswaldo\", \"Mónica\", \"Jonathan\",\n",
        "    \"Teresa\", \"Mariana\", \"Christian\", \"Itzel\", \"Gilberto\", \"Estefania\", \"Pablo\", \"Montserrat\", \"Jesus\"\n",
        "]\n",
        "generos = [\n",
        "    \"Femenino\", \"Masculino\", \"Femenino\", \"Masculino\", \"Femenino\", \"Masculino\", \"Femenino\", \"Masculino\", \"Femenino\", \"Masculino\",\n",
        "    \"Masculino\", \"Femenino\", \"Masculino\", \"Masculino\", \"Femenino\", \"Masculino\", \"Femenino\", \"Masculino\",\n",
        "    \"Femenino\", \"Femenino\", \"Masculino\", \"Femenino\", \"Masculino\", \"Femenino\", \"Masculino\", \"Femenino\", \"Masculino\"\n",
        "]"
      ],
      "metadata": {
        "id": "VuZLDnZcgtTA"
      },
      "execution_count": 13,
      "outputs": []
    },
    {
      "cell_type": "code",
      "source": [
        "# Minúsculas para estandarizar\n",
        "nombres = [n.lower() for n in nombres]"
      ],
      "metadata": {
        "id": "96AlRjlZkXSo"
      },
      "execution_count": 14,
      "outputs": []
    },
    {
      "cell_type": "code",
      "source": [
        "# Tokenización y padding\n",
        "tokenizer = Tokenizer(char_level=True)\n",
        "tokenizer.fit_on_texts(nombres)\n",
        "X = tokenizer.texts_to_sequences(nombres)\n",
        "X = pad_sequences(X, padding='post')\n",
        "maxlen = X.shape[1]"
      ],
      "metadata": {
        "id": "p9iECcLXg1ra"
      },
      "execution_count": 15,
      "outputs": []
    },
    {
      "cell_type": "code",
      "source": [
        "# Codificación del target\n",
        "encoder = LabelEncoder()\n",
        "y = encoder.fit_transform(generos)"
      ],
      "metadata": {
        "id": "Q2Af-DXig4j_"
      },
      "execution_count": 16,
      "outputs": []
    },
    {
      "cell_type": "code",
      "source": [
        "# Split\n",
        "X_train, X_val, y_train, y_val = train_test_split(X, y, test_size=0.1, random_state=42)"
      ],
      "metadata": {
        "id": "aBd3TyTeg7Yj"
      },
      "execution_count": 17,
      "outputs": []
    },
    {
      "cell_type": "code",
      "source": [
        "# Modelo mejorado\n",
        "model = Sequential([\n",
        "    Embedding(input_dim=len(tokenizer.word_index)+1, output_dim=16, input_length=maxlen),\n",
        "    Bidirectional(LSTM(32)),\n",
        "    Dense(1, activation='sigmoid')\n",
        "])\n",
        "model.compile(optimizer='adam', loss='binary_crossentropy', metrics=['accuracy'])"
      ],
      "metadata": {
        "colab": {
          "base_uri": "https://localhost:8080/"
        },
        "id": "sP9dVgKEg95s",
        "outputId": "674d6a40-57bd-409a-f25d-883c850027f8"
      },
      "execution_count": 18,
      "outputs": [
        {
          "output_type": "stream",
          "name": "stderr",
          "text": [
            "/usr/local/lib/python3.11/dist-packages/keras/src/layers/core/embedding.py:90: UserWarning: Argument `input_length` is deprecated. Just remove it.\n",
            "  warnings.warn(\n"
          ]
        }
      ]
    },
    {
      "cell_type": "code",
      "source": [
        "# Entrenamiento con EarlyStopping\n",
        "callback = EarlyStopping(monitor='val_loss', patience=10, restore_best_weights=True)\n",
        "history = model.fit(X_train, y_train, validation_data=(X_val, y_val), epochs=100, callbacks=[callback], verbose=0)\n"
      ],
      "metadata": {
        "id": "TsOxReozhM9t"
      },
      "execution_count": 19,
      "outputs": []
    },
    {
      "cell_type": "code",
      "source": [
        "# Evaluación\n",
        "loss, acc = model.evaluate(X_val, y_val, verbose=0)\n",
        "print(f\"Accuracy validación: {acc:.2f}\")"
      ],
      "metadata": {
        "colab": {
          "base_uri": "https://localhost:8080/"
        },
        "id": "CR6jBJc2krx9",
        "outputId": "8c0b6e40-6097-469b-b912-d8451acee9fb"
      },
      "execution_count": 20,
      "outputs": [
        {
          "output_type": "stream",
          "name": "stdout",
          "text": [
            "Accuracy validación: 1.00\n"
          ]
        }
      ]
    },
    {
      "cell_type": "code",
      "source": [
        "# Overfitting\n",
        "train_acc = history.history['accuracy'][-1]\n",
        "val_acc = history.history['val_accuracy'][-1]\n",
        "print(\"¿Overfitting?:\", \"Sí\" if train_acc - val_acc > 0.1 else \"No\")"
      ],
      "metadata": {
        "colab": {
          "base_uri": "https://localhost:8080/"
        },
        "id": "ZJGCiijohQTj",
        "outputId": "52ed4c51-fafc-47b5-8d60-84e010e26c64"
      },
      "execution_count": 21,
      "outputs": [
        {
          "output_type": "stream",
          "name": "stdout",
          "text": [
            "¿Overfitting?: No\n"
          ]
        }
      ]
    },
    {
      "cell_type": "code",
      "source": [
        "# Prueba con datos nuevos\n",
        "nuevos = [\"Francisco\", \"Andrea\", \"Roberto\", \"Valeria\"]\n",
        "nuevos_proc = tokenizer.texts_to_sequences([n.lower() for n in nuevos])\n",
        "nuevos_proc = pad_sequences(nuevos_proc, maxlen=maxlen, padding='post')\n",
        "preds = model.predict(nuevos_proc)\n",
        "for nombre, pred in zip(nuevos, preds):\n",
        "    print(f\"{nombre} => {'Masculino' if pred > 0.5 else 'Femenino'} ({pred[0]:.2f})\")"
      ],
      "metadata": {
        "colab": {
          "base_uri": "https://localhost:8080/"
        },
        "id": "urXy8VKchTDI",
        "outputId": "eb8a6a71-32e2-42c8-a0ed-bb83a9820a84"
      },
      "execution_count": 24,
      "outputs": [
        {
          "output_type": "stream",
          "name": "stdout",
          "text": [
            "\u001b[1m1/1\u001b[0m \u001b[32m━━━━━━━━━━━━━━━━━━━━\u001b[0m\u001b[37m\u001b[0m \u001b[1m0s\u001b[0m 351ms/step\n",
            "Francisco => Masculino (0.79)\n",
            "Andrea => Femenino (0.00)\n",
            "Roberto => Masculino (1.00)\n",
            "Valeria => Femenino (0.00)\n"
          ]
        }
      ]
    },
    {
      "cell_type": "code",
      "source": [
        "# Guardar modelo\n",
        "model.save(\"modelo_nombre_genero_mejorado.keras\")"
      ],
      "metadata": {
        "id": "TcLyG9dvlQqC"
      },
      "execution_count": 23,
      "outputs": []
    }
  ]
}